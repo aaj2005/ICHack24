{
 "cells": [
  {
   "cell_type": "code",
   "execution_count": 5,
   "metadata": {},
   "outputs": [],
   "source": [
    "import json\n",
    "from pandas import json_normalize\n",
    "import random\n",
    "\n",
    "file_path = \"jsonf.json\"\n",
    "with open(file_path, 'r') as file:\n",
    "    json_data = json.load(file)\n",
    "\n",
    "activity_data = json_data[\"data\"]\n",
    "data = json_normalize(activity_data)\n",
    "\n",
    "selected_columns = ['active_durations_data.activity_seconds',\n",
    "                    'calories_data.BMR_calories',\n",
    "                    'calories_data.net_activity_calories',\n",
    "                    'distance_data.summary.distance_meters',\n",
    "                    'distance_data.summary.steps',\n",
    "                    'heart_rate_data.summary.avg_hr_bpm',\n",
    "                    'heart_rate_data.summary.max_hr_bpm',\n",
    "                    'heart_rate_data.summary.min_hr_bpm',\n",
    "                    'heart_rate_data.summary.resting_hr_bpm',\n",
    "                    'movement_data.avg_cadence_rpm',\n",
    "                    'movement_data.avg_speed_meters_per_second',\n",
    "                    'movement_data.max_cadence_rpm',\n",
    "                    'movement_data.max_speed_meters_per_second',\n",
    "                    'oxygen_data.avg_saturation_percentage',\n",
    "                    'power_data.avg_watts',\n",
    "                    'power_data.max_watts', 'power_data.decline_hr_HRR'\n",
    "                    ]\n",
    "\n",
    "df_selected = data[selected_columns]\n",
    "# print(df_selected)\n",
    "\n",
    "active_seconds = selected_columns.index('active_durations_data.activity_seconds')\n",
    "BMR_calories = selected_columns.index('calories_data.BMR_calories')\n",
    "activity_calories = selected_columns.index('calories_data.net_activity_calories')\n",
    "distance_meters = selected_columns.index('distance_data.summary.distance_meters')\n",
    "steps = selected_columns.index('distance_data.summary.steps')\n",
    "avg_hr_bpm = selected_columns.index('heart_rate_data.summary.avg_hr_bpm')\n",
    "max_hr_bpm = selected_columns.index('heart_rate_data.summary.max_hr_bpm')\n",
    "min_hr_bpm = selected_columns.index('heart_rate_data.summary.min_hr_bpm')\n",
    "resting_hr_bpm = selected_columns.index('heart_rate_data.summary.resting_hr_bpm')\n",
    "avg_cadence_rpm = selected_columns.index('movement_data.avg_cadence_rpm')\n",
    "avg_speed_meters_per_second = selected_columns.index('movement_data.avg_speed_meters_per_second')\n",
    "max_cadence_rpm = selected_columns.index('movement_data.max_cadence_rpm')\n",
    "max_speed_meters_per_second = selected_columns.index('movement_data.max_speed_meters_per_second')\n",
    "avg_saturation_percentage = selected_columns.index('oxygen_data.avg_saturation_percentage')\n",
    "avg_watts = selected_columns.index('power_data.avg_watts')\n",
    "max_watts = selected_columns.index('power_data.max_watts')\n",
    "decline_hr_HRR = selected_columns.index('power_data.decline_hr_HRR')"
   ]
  },
  {
   "cell_type": "code",
   "execution_count": 15,
   "metadata": {},
   "outputs": [
    {
     "name": "stdout",
     "output_type": "stream",
     "text": [
      "0    38.77045\n",
      "Name: active_durations_data.activity_seconds, dtype: float64\n",
      "0    48.118299\n",
      "Name: distance_data.summary.steps, dtype: float64\n"
     ]
    }
   ],
   "source": [
    "# Example for active seconds - change range in random.uniform\n",
    "\n",
    "data[selected_columns[active_seconds]] = random_float = random.uniform(30*60, 60*60)\n",
    "data[selected_columns[BMR_calories]] = random_float = random.uniform(114.06 - 15.23, 114.06 + 15.23)\n",
    "data[selected_columns[activity_calories]] = random_float = random.uniform(90, 240)\n",
    "data[selected_columns[distance_meters]] = random_float = random.uniform(2300,4000)\n",
    "data[selected_columns[steps]] = random_float = random.uniform(3999,7817)\n",
    "data[selected_columns[avg_hr_bpm]] = random_float = random.uniform(120, 140)\n",
    "data[selected_columns[max_hr_bpm]] = random_float = random.uniform(130, 200)\n",
    "data[selected_columns[min_hr_bpm]] = random_float = random.uniform(110, 120)\n",
    "data[selected_columns[resting_hr_bpm]] = random_float = random.uniform(100, 120)\n",
    "data[selected_columns[avg_cadence_rpm]] = random_float = random.uniform(50, 80)\n",
    "data[selected_columns[avg_speed_meters_per_second]] = random_float = random.uniform(0.5, 2.0)\n",
    "data[selected_columns[max_cadence_rpm]] = random_float = random.uniform(60.0, 90.0)\n",
    "data[selected_columns[max_speed_meters_per_second]] = random_float = random.uniform(1.0, 3.0)\n",
    "data[selected_columns[avg_saturation_percentage]] = random_float = random.uniform(85,95)\n",
    "data[selected_columns[avg_watts]] = random_float = random.uniform(5.0, 30.0)\n",
    "data[selected_columns[max_watts]] = random_float = random.uniform(10.0, 50.0)\n",
    "data[selected_columns[decline_hr_HRR]] = random_float = random.uniform(5, 12)\n",
    "\n",
    "\n"
   ]
  }
 ],
 "metadata": {
  "kernelspec": {
   "display_name": "Python 3",
   "language": "python",
   "name": "python3"
  },
  "language_info": {
   "codemirror_mode": {
    "name": "ipython",
    "version": 3
   },
   "file_extension": ".py",
   "mimetype": "text/x-python",
   "name": "python",
   "nbconvert_exporter": "python",
   "pygments_lexer": "ipython3",
   "version": "3.11.7"
  }
 },
 "nbformat": 4,
 "nbformat_minor": 2
}
